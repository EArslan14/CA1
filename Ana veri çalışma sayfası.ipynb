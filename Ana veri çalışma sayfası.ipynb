{
 "cells": [
  {
   "cell_type": "code",
   "execution_count": 505,
   "id": "4e30aa16",
   "metadata": {},
   "outputs": [],
   "source": [
    "# Annual Population Change 1993-2023 Last 30 years ın Ireland\n",
    "# Annual Population Change being specifectly immigration and emigration 2019-2023 After Bretix \n",
    "# Annual Population Change being specifectly annual deaths/annual births during corona time \n",
    "# Annual Population Change being specifectly annual deaths/annual births during corona time "
   ]
  },
  {
   "cell_type": "code",
   "execution_count": 506,
   "id": "c56af82c",
   "metadata": {},
   "outputs": [],
   "source": [
    "import pandas as pd\n",
    "import numpy as np\n",
    "import seaborn as sns\n",
    "import matplotlib.pyplot as plt"
   ]
  },
  {
   "cell_type": "code",
   "execution_count": 507,
   "id": "1bff69e3",
   "metadata": {},
   "outputs": [],
   "source": [
    "data=pd.read_csv('PEA15.20231021T091018.csv')"
   ]
  },
  {
   "cell_type": "code",
   "execution_count": 508,
   "id": "02317c7f",
   "metadata": {
    "scrolled": true
   },
   "outputs": [
    {
     "data": {
      "text/html": [
       "<div>\n",
       "<style scoped>\n",
       "    .dataframe tbody tr th:only-of-type {\n",
       "        vertical-align: middle;\n",
       "    }\n",
       "\n",
       "    .dataframe tbody tr th {\n",
       "        vertical-align: top;\n",
       "    }\n",
       "\n",
       "    .dataframe thead th {\n",
       "        text-align: right;\n",
       "    }\n",
       "</style>\n",
       "<table border=\"1\" class=\"dataframe\">\n",
       "  <thead>\n",
       "    <tr style=\"text-align: right;\">\n",
       "      <th></th>\n",
       "      <th>STATISTIC Label</th>\n",
       "      <th>Year</th>\n",
       "      <th>Component</th>\n",
       "      <th>UNIT</th>\n",
       "      <th>VALUE</th>\n",
       "    </tr>\n",
       "  </thead>\n",
       "  <tbody>\n",
       "    <tr>\n",
       "      <th>0</th>\n",
       "      <td>Annual Population Change</td>\n",
       "      <td>1993</td>\n",
       "      <td>Annual births</td>\n",
       "      <td>Thousand</td>\n",
       "      <td>50.4</td>\n",
       "    </tr>\n",
       "    <tr>\n",
       "      <th>1</th>\n",
       "      <td>Annual Population Change</td>\n",
       "      <td>1993</td>\n",
       "      <td>Annual deaths</td>\n",
       "      <td>Thousand</td>\n",
       "      <td>30.4</td>\n",
       "    </tr>\n",
       "    <tr>\n",
       "      <th>2</th>\n",
       "      <td>Annual Population Change</td>\n",
       "      <td>1993</td>\n",
       "      <td>Natural increase</td>\n",
       "      <td>Thousand</td>\n",
       "      <td>20.0</td>\n",
       "    </tr>\n",
       "    <tr>\n",
       "      <th>3</th>\n",
       "      <td>Annual Population Change</td>\n",
       "      <td>1993</td>\n",
       "      <td>Immigrants</td>\n",
       "      <td>Thousand</td>\n",
       "      <td>34.7</td>\n",
       "    </tr>\n",
       "    <tr>\n",
       "      <th>4</th>\n",
       "      <td>Annual Population Change</td>\n",
       "      <td>1993</td>\n",
       "      <td>Emigrants</td>\n",
       "      <td>Thousand</td>\n",
       "      <td>35.1</td>\n",
       "    </tr>\n",
       "    <tr>\n",
       "      <th>...</th>\n",
       "      <td>...</td>\n",
       "      <td>...</td>\n",
       "      <td>...</td>\n",
       "      <td>...</td>\n",
       "      <td>...</td>\n",
       "    </tr>\n",
       "    <tr>\n",
       "      <th>243</th>\n",
       "      <td>Annual Population Change</td>\n",
       "      <td>2023</td>\n",
       "      <td>Immigrants</td>\n",
       "      <td>Thousand</td>\n",
       "      <td>141.6</td>\n",
       "    </tr>\n",
       "    <tr>\n",
       "      <th>244</th>\n",
       "      <td>Annual Population Change</td>\n",
       "      <td>2023</td>\n",
       "      <td>Emigrants</td>\n",
       "      <td>Thousand</td>\n",
       "      <td>64.0</td>\n",
       "    </tr>\n",
       "    <tr>\n",
       "      <th>245</th>\n",
       "      <td>Annual Population Change</td>\n",
       "      <td>2023</td>\n",
       "      <td>Net migration</td>\n",
       "      <td>Thousand</td>\n",
       "      <td>77.6</td>\n",
       "    </tr>\n",
       "    <tr>\n",
       "      <th>246</th>\n",
       "      <td>Annual Population Change</td>\n",
       "      <td>2023</td>\n",
       "      <td>Population change</td>\n",
       "      <td>Thousand</td>\n",
       "      <td>97.6</td>\n",
       "    </tr>\n",
       "    <tr>\n",
       "      <th>247</th>\n",
       "      <td>Annual Population Change</td>\n",
       "      <td>2023</td>\n",
       "      <td>Population</td>\n",
       "      <td>Thousand</td>\n",
       "      <td>5281.6</td>\n",
       "    </tr>\n",
       "  </tbody>\n",
       "</table>\n",
       "<p>248 rows × 5 columns</p>\n",
       "</div>"
      ],
      "text/plain": [
       "              STATISTIC Label  Year          Component      UNIT   VALUE\n",
       "0    Annual Population Change  1993      Annual births  Thousand    50.4\n",
       "1    Annual Population Change  1993      Annual deaths  Thousand    30.4\n",
       "2    Annual Population Change  1993   Natural increase  Thousand    20.0\n",
       "3    Annual Population Change  1993         Immigrants  Thousand    34.7\n",
       "4    Annual Population Change  1993          Emigrants  Thousand    35.1\n",
       "..                        ...   ...                ...       ...     ...\n",
       "243  Annual Population Change  2023         Immigrants  Thousand   141.6\n",
       "244  Annual Population Change  2023          Emigrants  Thousand    64.0\n",
       "245  Annual Population Change  2023      Net migration  Thousand    77.6\n",
       "246  Annual Population Change  2023  Population change  Thousand    97.6\n",
       "247  Annual Population Change  2023         Population  Thousand  5281.6\n",
       "\n",
       "[248 rows x 5 columns]"
      ]
     },
     "execution_count": 508,
     "metadata": {},
     "output_type": "execute_result"
    }
   ],
   "source": [
    "data"
   ]
  },
  {
   "cell_type": "code",
   "execution_count": 509,
   "id": "0ecf7398",
   "metadata": {},
   "outputs": [
    {
     "data": {
      "text/html": [
       "<div>\n",
       "<style scoped>\n",
       "    .dataframe tbody tr th:only-of-type {\n",
       "        vertical-align: middle;\n",
       "    }\n",
       "\n",
       "    .dataframe tbody tr th {\n",
       "        vertical-align: top;\n",
       "    }\n",
       "\n",
       "    .dataframe thead th {\n",
       "        text-align: right;\n",
       "    }\n",
       "</style>\n",
       "<table border=\"1\" class=\"dataframe\">\n",
       "  <thead>\n",
       "    <tr style=\"text-align: right;\">\n",
       "      <th></th>\n",
       "      <th>STATISTIC Label</th>\n",
       "      <th>Year</th>\n",
       "      <th>Component</th>\n",
       "      <th>UNIT</th>\n",
       "      <th>VALUE</th>\n",
       "    </tr>\n",
       "  </thead>\n",
       "  <tbody>\n",
       "    <tr>\n",
       "      <th>0</th>\n",
       "      <td>Annual Population Change</td>\n",
       "      <td>1993</td>\n",
       "      <td>Annual births</td>\n",
       "      <td>Thousand</td>\n",
       "      <td>50.4</td>\n",
       "    </tr>\n",
       "    <tr>\n",
       "      <th>1</th>\n",
       "      <td>Annual Population Change</td>\n",
       "      <td>1993</td>\n",
       "      <td>Annual deaths</td>\n",
       "      <td>Thousand</td>\n",
       "      <td>30.4</td>\n",
       "    </tr>\n",
       "    <tr>\n",
       "      <th>2</th>\n",
       "      <td>Annual Population Change</td>\n",
       "      <td>1993</td>\n",
       "      <td>Natural increase</td>\n",
       "      <td>Thousand</td>\n",
       "      <td>20.0</td>\n",
       "    </tr>\n",
       "    <tr>\n",
       "      <th>3</th>\n",
       "      <td>Annual Population Change</td>\n",
       "      <td>1993</td>\n",
       "      <td>Immigrants</td>\n",
       "      <td>Thousand</td>\n",
       "      <td>34.7</td>\n",
       "    </tr>\n",
       "    <tr>\n",
       "      <th>4</th>\n",
       "      <td>Annual Population Change</td>\n",
       "      <td>1993</td>\n",
       "      <td>Emigrants</td>\n",
       "      <td>Thousand</td>\n",
       "      <td>35.1</td>\n",
       "    </tr>\n",
       "    <tr>\n",
       "      <th>5</th>\n",
       "      <td>Annual Population Change</td>\n",
       "      <td>1993</td>\n",
       "      <td>Net migration</td>\n",
       "      <td>Thousand</td>\n",
       "      <td>-0.4</td>\n",
       "    </tr>\n",
       "    <tr>\n",
       "      <th>6</th>\n",
       "      <td>Annual Population Change</td>\n",
       "      <td>1993</td>\n",
       "      <td>Population change</td>\n",
       "      <td>Thousand</td>\n",
       "      <td>19.6</td>\n",
       "    </tr>\n",
       "    <tr>\n",
       "      <th>7</th>\n",
       "      <td>Annual Population Change</td>\n",
       "      <td>1993</td>\n",
       "      <td>Population</td>\n",
       "      <td>Thousand</td>\n",
       "      <td>3574.1</td>\n",
       "    </tr>\n",
       "    <tr>\n",
       "      <th>8</th>\n",
       "      <td>Annual Population Change</td>\n",
       "      <td>1994</td>\n",
       "      <td>Annual births</td>\n",
       "      <td>Thousand</td>\n",
       "      <td>49.1</td>\n",
       "    </tr>\n",
       "    <tr>\n",
       "      <th>9</th>\n",
       "      <td>Annual Population Change</td>\n",
       "      <td>1994</td>\n",
       "      <td>Annual deaths</td>\n",
       "      <td>Thousand</td>\n",
       "      <td>32.6</td>\n",
       "    </tr>\n",
       "  </tbody>\n",
       "</table>\n",
       "</div>"
      ],
      "text/plain": [
       "            STATISTIC Label  Year          Component      UNIT   VALUE\n",
       "0  Annual Population Change  1993      Annual births  Thousand    50.4\n",
       "1  Annual Population Change  1993      Annual deaths  Thousand    30.4\n",
       "2  Annual Population Change  1993   Natural increase  Thousand    20.0\n",
       "3  Annual Population Change  1993         Immigrants  Thousand    34.7\n",
       "4  Annual Population Change  1993          Emigrants  Thousand    35.1\n",
       "5  Annual Population Change  1993      Net migration  Thousand    -0.4\n",
       "6  Annual Population Change  1993  Population change  Thousand    19.6\n",
       "7  Annual Population Change  1993         Population  Thousand  3574.1\n",
       "8  Annual Population Change  1994      Annual births  Thousand    49.1\n",
       "9  Annual Population Change  1994      Annual deaths  Thousand    32.6"
      ]
     },
     "execution_count": 509,
     "metadata": {},
     "output_type": "execute_result"
    }
   ],
   "source": [
    "data.head(10)"
   ]
  },
  {
   "cell_type": "code",
   "execution_count": 510,
   "id": "14924d6d",
   "metadata": {},
   "outputs": [
    {
     "data": {
      "text/html": [
       "<div>\n",
       "<style scoped>\n",
       "    .dataframe tbody tr th:only-of-type {\n",
       "        vertical-align: middle;\n",
       "    }\n",
       "\n",
       "    .dataframe tbody tr th {\n",
       "        vertical-align: top;\n",
       "    }\n",
       "\n",
       "    .dataframe thead th {\n",
       "        text-align: right;\n",
       "    }\n",
       "</style>\n",
       "<table border=\"1\" class=\"dataframe\">\n",
       "  <thead>\n",
       "    <tr style=\"text-align: right;\">\n",
       "      <th></th>\n",
       "      <th>STATISTIC Label</th>\n",
       "      <th>Year</th>\n",
       "      <th>Component</th>\n",
       "      <th>UNIT</th>\n",
       "      <th>VALUE</th>\n",
       "    </tr>\n",
       "  </thead>\n",
       "  <tbody>\n",
       "    <tr>\n",
       "      <th>0</th>\n",
       "      <td>Annual Population Change</td>\n",
       "      <td>1993</td>\n",
       "      <td>Annual births</td>\n",
       "      <td>Thousand</td>\n",
       "      <td>50.4</td>\n",
       "    </tr>\n",
       "    <tr>\n",
       "      <th>1</th>\n",
       "      <td>Annual Population Change</td>\n",
       "      <td>1993</td>\n",
       "      <td>Annual deaths</td>\n",
       "      <td>Thousand</td>\n",
       "      <td>30.4</td>\n",
       "    </tr>\n",
       "    <tr>\n",
       "      <th>2</th>\n",
       "      <td>Annual Population Change</td>\n",
       "      <td>1993</td>\n",
       "      <td>Natural increase</td>\n",
       "      <td>Thousand</td>\n",
       "      <td>20.0</td>\n",
       "    </tr>\n",
       "    <tr>\n",
       "      <th>3</th>\n",
       "      <td>Annual Population Change</td>\n",
       "      <td>1993</td>\n",
       "      <td>Immigrants</td>\n",
       "      <td>Thousand</td>\n",
       "      <td>34.7</td>\n",
       "    </tr>\n",
       "    <tr>\n",
       "      <th>4</th>\n",
       "      <td>Annual Population Change</td>\n",
       "      <td>1993</td>\n",
       "      <td>Emigrants</td>\n",
       "      <td>Thousand</td>\n",
       "      <td>35.1</td>\n",
       "    </tr>\n",
       "    <tr>\n",
       "      <th>5</th>\n",
       "      <td>Annual Population Change</td>\n",
       "      <td>1993</td>\n",
       "      <td>Net migration</td>\n",
       "      <td>Thousand</td>\n",
       "      <td>-0.4</td>\n",
       "    </tr>\n",
       "    <tr>\n",
       "      <th>6</th>\n",
       "      <td>Annual Population Change</td>\n",
       "      <td>1993</td>\n",
       "      <td>Population change</td>\n",
       "      <td>Thousand</td>\n",
       "      <td>19.6</td>\n",
       "    </tr>\n",
       "    <tr>\n",
       "      <th>7</th>\n",
       "      <td>Annual Population Change</td>\n",
       "      <td>1993</td>\n",
       "      <td>Population</td>\n",
       "      <td>Thousand</td>\n",
       "      <td>3574.1</td>\n",
       "    </tr>\n",
       "  </tbody>\n",
       "</table>\n",
       "</div>"
      ],
      "text/plain": [
       "            STATISTIC Label  Year          Component      UNIT   VALUE\n",
       "0  Annual Population Change  1993      Annual births  Thousand    50.4\n",
       "1  Annual Population Change  1993      Annual deaths  Thousand    30.4\n",
       "2  Annual Population Change  1993   Natural increase  Thousand    20.0\n",
       "3  Annual Population Change  1993         Immigrants  Thousand    34.7\n",
       "4  Annual Population Change  1993          Emigrants  Thousand    35.1\n",
       "5  Annual Population Change  1993      Net migration  Thousand    -0.4\n",
       "6  Annual Population Change  1993  Population change  Thousand    19.6\n",
       "7  Annual Population Change  1993         Population  Thousand  3574.1"
      ]
     },
     "execution_count": 510,
     "metadata": {},
     "output_type": "execute_result"
    }
   ],
   "source": [
    "data.head(8) #Why I have chosed just 8 rows cause of different components . We have different components they are displayed 8 rows ."
   ]
  },
  {
   "cell_type": "markdown",
   "id": "1f7bbbdf",
   "metadata": {},
   "source": [
    "#We can understand now for Year 1993 ; \n",
    "Annual births\n",
    "Annual deaths\n",
    "Natural increase\n",
    "Immigrants\n",
    "Emigrants\n",
    "Net migration\n",
    "Population change\n",
    "Population\n",
    "\n",
    "I am looking for how changed Ireland population last 30 years and I am gonna predict about next year population ; will they increase or not ? \n",
    "If Ireland population is gonna increase , net migraiton or natural increasing will be main reason ? \n",
    "Beside that I am gonna have a look , ıf there is increasing for population and it will have continued as before , how will be net migraiton or natural increasing . \n",
    "If the government wanna keep population as same as last year and how should be difference for accepting immigrations in 2024 ?  I am gonna have a look answers of this questions .\n",
    "\n"
   ]
  },
  {
   "cell_type": "code",
   "execution_count": 511,
   "id": "bbac0261",
   "metadata": {},
   "outputs": [
    {
     "data": {
      "text/plain": [
       "(248, 5)"
      ]
     },
     "execution_count": 511,
     "metadata": {},
     "output_type": "execute_result"
    }
   ],
   "source": [
    "data.shape #We can have a look data shape . In this data we have 248 rows and 5 columns ."
   ]
  },
  {
   "cell_type": "code",
   "execution_count": 512,
   "id": "2f44025e",
   "metadata": {},
   "outputs": [
    {
     "data": {
      "text/html": [
       "<div>\n",
       "<style scoped>\n",
       "    .dataframe tbody tr th:only-of-type {\n",
       "        vertical-align: middle;\n",
       "    }\n",
       "\n",
       "    .dataframe tbody tr th {\n",
       "        vertical-align: top;\n",
       "    }\n",
       "\n",
       "    .dataframe thead th {\n",
       "        text-align: right;\n",
       "    }\n",
       "</style>\n",
       "<table border=\"1\" class=\"dataframe\">\n",
       "  <thead>\n",
       "    <tr style=\"text-align: right;\">\n",
       "      <th></th>\n",
       "      <th>Year</th>\n",
       "      <th>VALUE</th>\n",
       "    </tr>\n",
       "  </thead>\n",
       "  <tbody>\n",
       "    <tr>\n",
       "      <th>count</th>\n",
       "      <td>248.000000</td>\n",
       "      <td>248.000000</td>\n",
       "    </tr>\n",
       "    <tr>\n",
       "      <th>mean</th>\n",
       "      <td>2008.000000</td>\n",
       "      <td>582.497581</td>\n",
       "    </tr>\n",
       "    <tr>\n",
       "      <th>std</th>\n",
       "      <td>8.962359</td>\n",
       "      <td>1434.688854</td>\n",
       "    </tr>\n",
       "    <tr>\n",
       "      <th>min</th>\n",
       "      <td>1993.000000</td>\n",
       "      <td>-27.500000</td>\n",
       "    </tr>\n",
       "    <tr>\n",
       "      <th>25%</th>\n",
       "      <td>2000.000000</td>\n",
       "      <td>29.800000</td>\n",
       "    </tr>\n",
       "    <tr>\n",
       "      <th>50%</th>\n",
       "      <td>2008.000000</td>\n",
       "      <td>48.350000</td>\n",
       "    </tr>\n",
       "    <tr>\n",
       "      <th>75%</th>\n",
       "      <td>2016.000000</td>\n",
       "      <td>73.300000</td>\n",
       "    </tr>\n",
       "    <tr>\n",
       "      <th>max</th>\n",
       "      <td>2023.000000</td>\n",
       "      <td>5281.600000</td>\n",
       "    </tr>\n",
       "  </tbody>\n",
       "</table>\n",
       "</div>"
      ],
      "text/plain": [
       "              Year        VALUE\n",
       "count   248.000000   248.000000\n",
       "mean   2008.000000   582.497581\n",
       "std       8.962359  1434.688854\n",
       "min    1993.000000   -27.500000\n",
       "25%    2000.000000    29.800000\n",
       "50%    2008.000000    48.350000\n",
       "75%    2016.000000    73.300000\n",
       "max    2023.000000  5281.600000"
      ]
     },
     "execution_count": 512,
     "metadata": {},
     "output_type": "execute_result"
    }
   ],
   "source": [
    "data.describe() #We can learn how many variables we have and max value or min value or more"
   ]
  },
  {
   "cell_type": "code",
   "execution_count": 513,
   "id": "613eed3c",
   "metadata": {},
   "outputs": [
    {
     "data": {
      "text/html": [
       "<div>\n",
       "<style scoped>\n",
       "    .dataframe tbody tr th:only-of-type {\n",
       "        vertical-align: middle;\n",
       "    }\n",
       "\n",
       "    .dataframe tbody tr th {\n",
       "        vertical-align: top;\n",
       "    }\n",
       "\n",
       "    .dataframe thead th {\n",
       "        text-align: right;\n",
       "    }\n",
       "</style>\n",
       "<table border=\"1\" class=\"dataframe\">\n",
       "  <thead>\n",
       "    <tr style=\"text-align: right;\">\n",
       "      <th></th>\n",
       "      <th>STATISTIC Label</th>\n",
       "      <th>Component</th>\n",
       "      <th>UNIT</th>\n",
       "    </tr>\n",
       "  </thead>\n",
       "  <tbody>\n",
       "    <tr>\n",
       "      <th>count</th>\n",
       "      <td>248</td>\n",
       "      <td>248</td>\n",
       "      <td>248</td>\n",
       "    </tr>\n",
       "    <tr>\n",
       "      <th>unique</th>\n",
       "      <td>1</td>\n",
       "      <td>8</td>\n",
       "      <td>1</td>\n",
       "    </tr>\n",
       "    <tr>\n",
       "      <th>top</th>\n",
       "      <td>Annual Population Change</td>\n",
       "      <td>Annual births</td>\n",
       "      <td>Thousand</td>\n",
       "    </tr>\n",
       "    <tr>\n",
       "      <th>freq</th>\n",
       "      <td>248</td>\n",
       "      <td>31</td>\n",
       "      <td>248</td>\n",
       "    </tr>\n",
       "  </tbody>\n",
       "</table>\n",
       "</div>"
      ],
      "text/plain": [
       "                 STATISTIC Label      Component      UNIT\n",
       "count                        248            248       248\n",
       "unique                         1              8         1\n",
       "top     Annual Population Change  Annual births  Thousand\n",
       "freq                         248             31       248"
      ]
     },
     "execution_count": 513,
     "metadata": {},
     "output_type": "execute_result"
    }
   ],
   "source": [
    "data.describe(include=object) #We can search datas detailly here . As you can see , for example we can understand how many unique or frequency values"
   ]
  },
  {
   "cell_type": "code",
   "execution_count": 514,
   "id": "504ef650",
   "metadata": {
    "scrolled": true
   },
   "outputs": [
    {
     "name": "stdout",
     "output_type": "stream",
     "text": [
      "<class 'pandas.core.frame.DataFrame'>\n",
      "RangeIndex: 248 entries, 0 to 247\n",
      "Data columns (total 5 columns):\n",
      " #   Column           Non-Null Count  Dtype  \n",
      "---  ------           --------------  -----  \n",
      " 0   STATISTIC Label  248 non-null    object \n",
      " 1   Year             248 non-null    int64  \n",
      " 2   Component        248 non-null    object \n",
      " 3   UNIT             248 non-null    object \n",
      " 4   VALUE            248 non-null    float64\n",
      "dtypes: float64(1), int64(1), object(3)\n",
      "memory usage: 9.8+ KB\n"
     ]
    }
   ],
   "source": [
    "data.info() #We can have an idea about our data . How many floats , integers or objects we have"
   ]
  },
  {
   "cell_type": "markdown",
   "id": "b412bccc",
   "metadata": {},
   "source": [
    "After all , before I start I have to be sure there is no missing data . Unless I have any missing data , I can start read data but ıf I have , I should detect them and have to find a solution . Maybe ; \n",
    "I can chance them as ' 0' , \n",
    "I can take value from another randomly slected sample , \n",
    "I can use mean or median , \n",
    "I can use interpolate . "
   ]
  },
  {
   "cell_type": "code",
   "execution_count": 515,
   "id": "70969396",
   "metadata": {},
   "outputs": [],
   "source": [
    "null_filter_i = data.isnull()"
   ]
  },
  {
   "cell_type": "code",
   "execution_count": 516,
   "id": "44c1ffcd",
   "metadata": {
    "scrolled": true
   },
   "outputs": [
    {
     "data": {
      "text/html": [
       "<div>\n",
       "<style scoped>\n",
       "    .dataframe tbody tr th:only-of-type {\n",
       "        vertical-align: middle;\n",
       "    }\n",
       "\n",
       "    .dataframe tbody tr th {\n",
       "        vertical-align: top;\n",
       "    }\n",
       "\n",
       "    .dataframe thead th {\n",
       "        text-align: right;\n",
       "    }\n",
       "</style>\n",
       "<table border=\"1\" class=\"dataframe\">\n",
       "  <thead>\n",
       "    <tr style=\"text-align: right;\">\n",
       "      <th></th>\n",
       "      <th>STATISTIC Label</th>\n",
       "      <th>Year</th>\n",
       "      <th>Component</th>\n",
       "      <th>UNIT</th>\n",
       "      <th>VALUE</th>\n",
       "    </tr>\n",
       "  </thead>\n",
       "  <tbody>\n",
       "    <tr>\n",
       "      <th>0</th>\n",
       "      <td>False</td>\n",
       "      <td>False</td>\n",
       "      <td>False</td>\n",
       "      <td>False</td>\n",
       "      <td>False</td>\n",
       "    </tr>\n",
       "    <tr>\n",
       "      <th>1</th>\n",
       "      <td>False</td>\n",
       "      <td>False</td>\n",
       "      <td>False</td>\n",
       "      <td>False</td>\n",
       "      <td>False</td>\n",
       "    </tr>\n",
       "    <tr>\n",
       "      <th>2</th>\n",
       "      <td>False</td>\n",
       "      <td>False</td>\n",
       "      <td>False</td>\n",
       "      <td>False</td>\n",
       "      <td>False</td>\n",
       "    </tr>\n",
       "    <tr>\n",
       "      <th>3</th>\n",
       "      <td>False</td>\n",
       "      <td>False</td>\n",
       "      <td>False</td>\n",
       "      <td>False</td>\n",
       "      <td>False</td>\n",
       "    </tr>\n",
       "    <tr>\n",
       "      <th>4</th>\n",
       "      <td>False</td>\n",
       "      <td>False</td>\n",
       "      <td>False</td>\n",
       "      <td>False</td>\n",
       "      <td>False</td>\n",
       "    </tr>\n",
       "    <tr>\n",
       "      <th>5</th>\n",
       "      <td>False</td>\n",
       "      <td>False</td>\n",
       "      <td>False</td>\n",
       "      <td>False</td>\n",
       "      <td>False</td>\n",
       "    </tr>\n",
       "    <tr>\n",
       "      <th>6</th>\n",
       "      <td>False</td>\n",
       "      <td>False</td>\n",
       "      <td>False</td>\n",
       "      <td>False</td>\n",
       "      <td>False</td>\n",
       "    </tr>\n",
       "    <tr>\n",
       "      <th>7</th>\n",
       "      <td>False</td>\n",
       "      <td>False</td>\n",
       "      <td>False</td>\n",
       "      <td>False</td>\n",
       "      <td>False</td>\n",
       "    </tr>\n",
       "    <tr>\n",
       "      <th>8</th>\n",
       "      <td>False</td>\n",
       "      <td>False</td>\n",
       "      <td>False</td>\n",
       "      <td>False</td>\n",
       "      <td>False</td>\n",
       "    </tr>\n",
       "    <tr>\n",
       "      <th>9</th>\n",
       "      <td>False</td>\n",
       "      <td>False</td>\n",
       "      <td>False</td>\n",
       "      <td>False</td>\n",
       "      <td>False</td>\n",
       "    </tr>\n",
       "  </tbody>\n",
       "</table>\n",
       "</div>"
      ],
      "text/plain": [
       "   STATISTIC Label   Year  Component   UNIT  VALUE\n",
       "0            False  False      False  False  False\n",
       "1            False  False      False  False  False\n",
       "2            False  False      False  False  False\n",
       "3            False  False      False  False  False\n",
       "4            False  False      False  False  False\n",
       "5            False  False      False  False  False\n",
       "6            False  False      False  False  False\n",
       "7            False  False      False  False  False\n",
       "8            False  False      False  False  False\n",
       "9            False  False      False  False  False"
      ]
     },
     "execution_count": 516,
     "metadata": {},
     "output_type": "execute_result"
    }
   ],
   "source": [
    "null_filter_i.head(10)"
   ]
  },
  {
   "cell_type": "code",
   "execution_count": 517,
   "id": "d6b79826",
   "metadata": {},
   "outputs": [
    {
     "data": {
      "text/plain": [
       "(248, 5)"
      ]
     },
     "execution_count": 517,
     "metadata": {},
     "output_type": "execute_result"
    }
   ],
   "source": [
    "null_filter_i.shape"
   ]
  },
  {
   "cell_type": "code",
   "execution_count": 518,
   "id": "d7f3dcbc",
   "metadata": {
    "scrolled": true
   },
   "outputs": [
    {
     "data": {
      "text/plain": [
       "STATISTIC Label    248\n",
       "Year               248\n",
       "Component          248\n",
       "UNIT               248\n",
       "VALUE              248\n",
       "dtype: int64"
      ]
     },
     "execution_count": 518,
     "metadata": {},
     "output_type": "execute_result"
    }
   ],
   "source": [
    "null_filter_i.count() #248 values we have for each groups . There is no missing data "
   ]
  },
  {
   "cell_type": "code",
   "execution_count": 519,
   "id": "f1a0c5b2",
   "metadata": {},
   "outputs": [],
   "source": [
    "null_filter_n=data.notnull()"
   ]
  },
  {
   "cell_type": "code",
   "execution_count": 520,
   "id": "ca9270a1",
   "metadata": {},
   "outputs": [
    {
     "data": {
      "text/html": [
       "<div>\n",
       "<style scoped>\n",
       "    .dataframe tbody tr th:only-of-type {\n",
       "        vertical-align: middle;\n",
       "    }\n",
       "\n",
       "    .dataframe tbody tr th {\n",
       "        vertical-align: top;\n",
       "    }\n",
       "\n",
       "    .dataframe thead th {\n",
       "        text-align: right;\n",
       "    }\n",
       "</style>\n",
       "<table border=\"1\" class=\"dataframe\">\n",
       "  <thead>\n",
       "    <tr style=\"text-align: right;\">\n",
       "      <th></th>\n",
       "      <th>STATISTIC Label</th>\n",
       "      <th>Year</th>\n",
       "      <th>Component</th>\n",
       "      <th>UNIT</th>\n",
       "      <th>VALUE</th>\n",
       "    </tr>\n",
       "  </thead>\n",
       "  <tbody>\n",
       "    <tr>\n",
       "      <th>0</th>\n",
       "      <td>True</td>\n",
       "      <td>True</td>\n",
       "      <td>True</td>\n",
       "      <td>True</td>\n",
       "      <td>True</td>\n",
       "    </tr>\n",
       "    <tr>\n",
       "      <th>1</th>\n",
       "      <td>True</td>\n",
       "      <td>True</td>\n",
       "      <td>True</td>\n",
       "      <td>True</td>\n",
       "      <td>True</td>\n",
       "    </tr>\n",
       "    <tr>\n",
       "      <th>2</th>\n",
       "      <td>True</td>\n",
       "      <td>True</td>\n",
       "      <td>True</td>\n",
       "      <td>True</td>\n",
       "      <td>True</td>\n",
       "    </tr>\n",
       "    <tr>\n",
       "      <th>3</th>\n",
       "      <td>True</td>\n",
       "      <td>True</td>\n",
       "      <td>True</td>\n",
       "      <td>True</td>\n",
       "      <td>True</td>\n",
       "    </tr>\n",
       "    <tr>\n",
       "      <th>4</th>\n",
       "      <td>True</td>\n",
       "      <td>True</td>\n",
       "      <td>True</td>\n",
       "      <td>True</td>\n",
       "      <td>True</td>\n",
       "    </tr>\n",
       "    <tr>\n",
       "      <th>5</th>\n",
       "      <td>True</td>\n",
       "      <td>True</td>\n",
       "      <td>True</td>\n",
       "      <td>True</td>\n",
       "      <td>True</td>\n",
       "    </tr>\n",
       "    <tr>\n",
       "      <th>6</th>\n",
       "      <td>True</td>\n",
       "      <td>True</td>\n",
       "      <td>True</td>\n",
       "      <td>True</td>\n",
       "      <td>True</td>\n",
       "    </tr>\n",
       "    <tr>\n",
       "      <th>7</th>\n",
       "      <td>True</td>\n",
       "      <td>True</td>\n",
       "      <td>True</td>\n",
       "      <td>True</td>\n",
       "      <td>True</td>\n",
       "    </tr>\n",
       "    <tr>\n",
       "      <th>8</th>\n",
       "      <td>True</td>\n",
       "      <td>True</td>\n",
       "      <td>True</td>\n",
       "      <td>True</td>\n",
       "      <td>True</td>\n",
       "    </tr>\n",
       "    <tr>\n",
       "      <th>9</th>\n",
       "      <td>True</td>\n",
       "      <td>True</td>\n",
       "      <td>True</td>\n",
       "      <td>True</td>\n",
       "      <td>True</td>\n",
       "    </tr>\n",
       "    <tr>\n",
       "      <th>10</th>\n",
       "      <td>True</td>\n",
       "      <td>True</td>\n",
       "      <td>True</td>\n",
       "      <td>True</td>\n",
       "      <td>True</td>\n",
       "    </tr>\n",
       "    <tr>\n",
       "      <th>11</th>\n",
       "      <td>True</td>\n",
       "      <td>True</td>\n",
       "      <td>True</td>\n",
       "      <td>True</td>\n",
       "      <td>True</td>\n",
       "    </tr>\n",
       "    <tr>\n",
       "      <th>12</th>\n",
       "      <td>True</td>\n",
       "      <td>True</td>\n",
       "      <td>True</td>\n",
       "      <td>True</td>\n",
       "      <td>True</td>\n",
       "    </tr>\n",
       "    <tr>\n",
       "      <th>13</th>\n",
       "      <td>True</td>\n",
       "      <td>True</td>\n",
       "      <td>True</td>\n",
       "      <td>True</td>\n",
       "      <td>True</td>\n",
       "    </tr>\n",
       "    <tr>\n",
       "      <th>14</th>\n",
       "      <td>True</td>\n",
       "      <td>True</td>\n",
       "      <td>True</td>\n",
       "      <td>True</td>\n",
       "      <td>True</td>\n",
       "    </tr>\n",
       "  </tbody>\n",
       "</table>\n",
       "</div>"
      ],
      "text/plain": [
       "    STATISTIC Label  Year  Component  UNIT  VALUE\n",
       "0              True  True       True  True   True\n",
       "1              True  True       True  True   True\n",
       "2              True  True       True  True   True\n",
       "3              True  True       True  True   True\n",
       "4              True  True       True  True   True\n",
       "5              True  True       True  True   True\n",
       "6              True  True       True  True   True\n",
       "7              True  True       True  True   True\n",
       "8              True  True       True  True   True\n",
       "9              True  True       True  True   True\n",
       "10             True  True       True  True   True\n",
       "11             True  True       True  True   True\n",
       "12             True  True       True  True   True\n",
       "13             True  True       True  True   True\n",
       "14             True  True       True  True   True"
      ]
     },
     "execution_count": 520,
     "metadata": {},
     "output_type": "execute_result"
    }
   ],
   "source": [
    "null_filter_n.head(15)"
   ]
  },
  {
   "cell_type": "code",
   "execution_count": 521,
   "id": "1048b8eb",
   "metadata": {},
   "outputs": [
    {
     "data": {
      "text/plain": [
       "(248, 5)"
      ]
     },
     "execution_count": 521,
     "metadata": {},
     "output_type": "execute_result"
    }
   ],
   "source": [
    "null_filter_n.shape"
   ]
  },
  {
   "cell_type": "code",
   "execution_count": 522,
   "id": "e387a654",
   "metadata": {
    "scrolled": true
   },
   "outputs": [
    {
     "data": {
      "text/plain": [
       "STATISTIC Label    248\n",
       "Year               248\n",
       "Component          248\n",
       "UNIT               248\n",
       "VALUE              248\n",
       "dtype: int64"
      ]
     },
     "execution_count": 522,
     "metadata": {},
     "output_type": "execute_result"
    }
   ],
   "source": [
    "null_filter_n.count() #248 values we have for each groups . There is no missing data "
   ]
  },
  {
   "cell_type": "markdown",
   "id": "e2892b61",
   "metadata": {},
   "source": [
    "If we had missing datas , we could have found them as below as separetly having look all columns . "
   ]
  },
  {
   "cell_type": "code",
   "execution_count": 523,
   "id": "726c3de5",
   "metadata": {},
   "outputs": [
    {
     "data": {
      "text/plain": [
       "0     False\n",
       "1     False\n",
       "2     False\n",
       "3     False\n",
       "4     False\n",
       "5     False\n",
       "6     False\n",
       "7     False\n",
       "8     False\n",
       "9     False\n",
       "10    False\n",
       "11    False\n",
       "12    False\n",
       "13    False\n",
       "14    False\n",
       "Name: STATISTIC Label, dtype: bool"
      ]
     },
     "execution_count": 523,
     "metadata": {},
     "output_type": "execute_result"
    }
   ],
   "source": [
    "null_filter_statıstıc = data['STATISTIC Label'].isnull() \n",
    "null_filter_statıstıc.head(15)\n",
    "\n",
    "#We are having look do we have missign datas for Statıstıc Label column or not ."
   ]
  },
  {
   "cell_type": "code",
   "execution_count": 524,
   "id": "73685535",
   "metadata": {},
   "outputs": [
    {
     "data": {
      "text/plain": [
       "(248,)"
      ]
     },
     "execution_count": 524,
     "metadata": {},
     "output_type": "execute_result"
    }
   ],
   "source": [
    "null_filter_statıstıc.shape"
   ]
  },
  {
   "cell_type": "code",
   "execution_count": 525,
   "id": "e80c6add",
   "metadata": {},
   "outputs": [
    {
     "name": "stdout",
     "output_type": "stream",
     "text": [
      "(248, 5)\n"
     ]
    }
   ],
   "source": [
    "print(data[null_filter].shape)\n",
    "\n",
    "#To be plus , we can have a look missing datas shapes and it can say us , ıs there any missing data or not .\n"
   ]
  },
  {
   "cell_type": "code",
   "execution_count": 526,
   "id": "c07b6787",
   "metadata": {},
   "outputs": [
    {
     "name": "stdout",
     "output_type": "stream",
     "text": [
      "Empty DataFrame\n",
      "Columns: [STATISTIC Label, Year, Component, UNIT, VALUE]\n",
      "Index: []\n",
      "(0, 5)\n"
     ]
    }
   ],
   "source": [
    "null_filter = data['Year'].isnull()\n",
    "print(data[null_filter])\n",
    "print(data[null_filter].shape)\n",
    "\n",
    "#We are having look if we have missign data for Year column"
   ]
  },
  {
   "cell_type": "code",
   "execution_count": 527,
   "id": "2e91694b",
   "metadata": {},
   "outputs": [
    {
     "name": "stdout",
     "output_type": "stream",
     "text": [
      "Empty DataFrame\n",
      "Columns: [STATISTIC Label, Year, Component, UNIT, VALUE]\n",
      "Index: []\n",
      "(0, 5)\n"
     ]
    }
   ],
   "source": [
    "null_filter = data['Component'].isnull()\n",
    "print(data[null_filter])\n",
    "print(data[null_filter].shape)\n",
    "\n",
    "#We are having look to see if we have missign data for Component column"
   ]
  },
  {
   "cell_type": "code",
   "execution_count": 528,
   "id": "f2555281",
   "metadata": {},
   "outputs": [
    {
     "name": "stdout",
     "output_type": "stream",
     "text": [
      "Empty DataFrame\n",
      "Columns: [STATISTIC Label, Year, Component, UNIT, VALUE]\n",
      "Index: []\n",
      "(0, 5)\n"
     ]
    }
   ],
   "source": [
    "null_filter = data['UNIT'].isnull()\n",
    "print(data[null_filter])\n",
    "print(data[null_filter].shape)\n",
    "\n",
    "#We are having look to see if we have missign data for UNIT column"
   ]
  },
  {
   "cell_type": "code",
   "execution_count": 529,
   "id": "829b8ec7",
   "metadata": {},
   "outputs": [
    {
     "name": "stdout",
     "output_type": "stream",
     "text": [
      "Empty DataFrame\n",
      "Columns: [STATISTIC Label, Year, Component, UNIT, VALUE]\n",
      "Index: []\n",
      "(0, 5)\n"
     ]
    }
   ],
   "source": [
    "null_filter = data['VALUE'].isnull()\n",
    "print(data[null_filter])\n",
    "print(data[null_filter].shape)\n",
    "\n",
    "#We are having look to see if we have missign data for VALUE column"
   ]
  },
  {
   "cell_type": "code",
   "execution_count": 530,
   "id": "7ff6adc5",
   "metadata": {},
   "outputs": [
    {
     "name": "stdout",
     "output_type": "stream",
     "text": [
      "              STATISTIC Label  Year          Component      UNIT   VALUE\n",
      "0    Annual Population Change  1993      Annual births  Thousand    50.4\n",
      "1    Annual Population Change  1993      Annual deaths  Thousand    30.4\n",
      "2    Annual Population Change  1993   Natural increase  Thousand    20.0\n",
      "3    Annual Population Change  1993         Immigrants  Thousand    34.7\n",
      "4    Annual Population Change  1993          Emigrants  Thousand    35.1\n",
      "..                        ...   ...                ...       ...     ...\n",
      "243  Annual Population Change  2023         Immigrants  Thousand   141.6\n",
      "244  Annual Population Change  2023          Emigrants  Thousand    64.0\n",
      "245  Annual Population Change  2023      Net migration  Thousand    77.6\n",
      "246  Annual Population Change  2023  Population change  Thousand    97.6\n",
      "247  Annual Population Change  2023         Population  Thousand  5281.6\n",
      "\n",
      "[248 rows x 5 columns]\n",
      "(248, 5)\n"
     ]
    }
   ],
   "source": [
    "null_filter = data['STATISTIC Label'].notnull()\n",
    "print(data[null_filter])\n",
    "print(data[null_filter].shape)\n",
    "\n",
    "#We wanna be sure we do not have any missing data with notnull command ."
   ]
  },
  {
   "cell_type": "code",
   "execution_count": 531,
   "id": "1ea9e9ea",
   "metadata": {
    "scrolled": false
   },
   "outputs": [
    {
     "name": "stdout",
     "output_type": "stream",
     "text": [
      "              STATISTIC Label  Year          Component      UNIT   VALUE\n",
      "0    Annual Population Change  1993      Annual births  Thousand    50.4\n",
      "1    Annual Population Change  1993      Annual deaths  Thousand    30.4\n",
      "2    Annual Population Change  1993   Natural increase  Thousand    20.0\n",
      "3    Annual Population Change  1993         Immigrants  Thousand    34.7\n",
      "4    Annual Population Change  1993          Emigrants  Thousand    35.1\n",
      "..                        ...   ...                ...       ...     ...\n",
      "243  Annual Population Change  2023         Immigrants  Thousand   141.6\n",
      "244  Annual Population Change  2023          Emigrants  Thousand    64.0\n",
      "245  Annual Population Change  2023      Net migration  Thousand    77.6\n",
      "246  Annual Population Change  2023  Population change  Thousand    97.6\n",
      "247  Annual Population Change  2023         Population  Thousand  5281.6\n",
      "\n",
      "[248 rows x 5 columns]\n",
      "(248, 5)\n"
     ]
    }
   ],
   "source": [
    "null_filter = data['Year'].notnull()\n",
    "print(data[null_filter])\n",
    "print(data[null_filter].shape)\n",
    "\n",
    "#We wanna be sure we do not have any missing data . We know our data shape ( 248,5) and notnull for Year also same ."
   ]
  },
  {
   "cell_type": "code",
   "execution_count": 532,
   "id": "e6c11d71",
   "metadata": {
    "scrolled": true
   },
   "outputs": [
    {
     "name": "stdout",
     "output_type": "stream",
     "text": [
      "              STATISTIC Label  Year          Component      UNIT   VALUE\n",
      "0    Annual Population Change  1993      Annual births  Thousand    50.4\n",
      "1    Annual Population Change  1993      Annual deaths  Thousand    30.4\n",
      "2    Annual Population Change  1993   Natural increase  Thousand    20.0\n",
      "3    Annual Population Change  1993         Immigrants  Thousand    34.7\n",
      "4    Annual Population Change  1993          Emigrants  Thousand    35.1\n",
      "..                        ...   ...                ...       ...     ...\n",
      "243  Annual Population Change  2023         Immigrants  Thousand   141.6\n",
      "244  Annual Population Change  2023          Emigrants  Thousand    64.0\n",
      "245  Annual Population Change  2023      Net migration  Thousand    77.6\n",
      "246  Annual Population Change  2023  Population change  Thousand    97.6\n",
      "247  Annual Population Change  2023         Population  Thousand  5281.6\n",
      "\n",
      "[248 rows x 5 columns]\n",
      "(248, 5)\n"
     ]
    }
   ],
   "source": [
    "null_filter = data.notnull()\n",
    "print(data[null_filter])\n",
    "print(data[null_filter].shape)"
   ]
  },
  {
   "cell_type": "code",
   "execution_count": 533,
   "id": "4c2ee285",
   "metadata": {},
   "outputs": [
    {
     "data": {
      "text/plain": [
       "STATISTIC Label    248\n",
       "Year               248\n",
       "Component          248\n",
       "UNIT               248\n",
       "VALUE              248\n",
       "dtype: int64"
      ]
     },
     "execution_count": 533,
     "metadata": {},
     "output_type": "execute_result"
    }
   ],
   "source": [
    "null_filter.count()"
   ]
  },
  {
   "cell_type": "code",
   "execution_count": 534,
   "id": "2ab134b7",
   "metadata": {},
   "outputs": [
    {
     "name": "stdout",
     "output_type": "stream",
     "text": [
      "    STATISTIC Label  Year Component UNIT  VALUE\n",
      "0               NaN   NaN       NaN  NaN    NaN\n",
      "1               NaN   NaN       NaN  NaN    NaN\n",
      "2               NaN   NaN       NaN  NaN    NaN\n",
      "3               NaN   NaN       NaN  NaN    NaN\n",
      "4               NaN   NaN       NaN  NaN    NaN\n",
      "..              ...   ...       ...  ...    ...\n",
      "243             NaN   NaN       NaN  NaN    NaN\n",
      "244             NaN   NaN       NaN  NaN    NaN\n",
      "245             NaN   NaN       NaN  NaN    NaN\n",
      "246             NaN   NaN       NaN  NaN    NaN\n",
      "247             NaN   NaN       NaN  NaN    NaN\n",
      "\n",
      "[248 rows x 5 columns]\n",
      "(248, 5)\n"
     ]
    }
   ],
   "source": [
    "null_filter = data.isnull()\n",
    "print(data[null_filter])\n",
    "print(data[null_filter].shape)"
   ]
  },
  {
   "cell_type": "code",
   "execution_count": 535,
   "id": "941cf6ea",
   "metadata": {},
   "outputs": [
    {
     "data": {
      "text/plain": [
       "STATISTIC Label    248\n",
       "Year               248\n",
       "Component          248\n",
       "UNIT               248\n",
       "VALUE              248\n",
       "dtype: int64"
      ]
     },
     "execution_count": 535,
     "metadata": {},
     "output_type": "execute_result"
    }
   ],
   "source": [
    "null_filter.count()"
   ]
  },
  {
   "cell_type": "markdown",
   "id": "74c51378",
   "metadata": {},
   "source": [
    "After all controls we are sure we do not have any missing data and we can start to read data for our questions "
   ]
  },
  {
   "cell_type": "code",
   "execution_count": 536,
   "id": "20968e93",
   "metadata": {},
   "outputs": [
    {
     "data": {
      "text/html": [
       "<div>\n",
       "<style scoped>\n",
       "    .dataframe tbody tr th:only-of-type {\n",
       "        vertical-align: middle;\n",
       "    }\n",
       "\n",
       "    .dataframe tbody tr th {\n",
       "        vertical-align: top;\n",
       "    }\n",
       "\n",
       "    .dataframe thead th {\n",
       "        text-align: right;\n",
       "    }\n",
       "</style>\n",
       "<table border=\"1\" class=\"dataframe\">\n",
       "  <thead>\n",
       "    <tr style=\"text-align: right;\">\n",
       "      <th></th>\n",
       "      <th>STATISTIC Label</th>\n",
       "      <th>Year</th>\n",
       "      <th>Component</th>\n",
       "      <th>UNIT</th>\n",
       "      <th>VALUE</th>\n",
       "    </tr>\n",
       "  </thead>\n",
       "  <tbody>\n",
       "    <tr>\n",
       "      <th>0</th>\n",
       "      <td>Annual Population Change</td>\n",
       "      <td>1993</td>\n",
       "      <td>Annual births</td>\n",
       "      <td>Thousand</td>\n",
       "      <td>50.4</td>\n",
       "    </tr>\n",
       "    <tr>\n",
       "      <th>1</th>\n",
       "      <td>Annual Population Change</td>\n",
       "      <td>1993</td>\n",
       "      <td>Annual deaths</td>\n",
       "      <td>Thousand</td>\n",
       "      <td>30.4</td>\n",
       "    </tr>\n",
       "    <tr>\n",
       "      <th>2</th>\n",
       "      <td>Annual Population Change</td>\n",
       "      <td>1993</td>\n",
       "      <td>Natural increase</td>\n",
       "      <td>Thousand</td>\n",
       "      <td>20.0</td>\n",
       "    </tr>\n",
       "    <tr>\n",
       "      <th>3</th>\n",
       "      <td>Annual Population Change</td>\n",
       "      <td>1993</td>\n",
       "      <td>Immigrants</td>\n",
       "      <td>Thousand</td>\n",
       "      <td>34.7</td>\n",
       "    </tr>\n",
       "    <tr>\n",
       "      <th>4</th>\n",
       "      <td>Annual Population Change</td>\n",
       "      <td>1993</td>\n",
       "      <td>Emigrants</td>\n",
       "      <td>Thousand</td>\n",
       "      <td>35.1</td>\n",
       "    </tr>\n",
       "    <tr>\n",
       "      <th>...</th>\n",
       "      <td>...</td>\n",
       "      <td>...</td>\n",
       "      <td>...</td>\n",
       "      <td>...</td>\n",
       "      <td>...</td>\n",
       "    </tr>\n",
       "    <tr>\n",
       "      <th>243</th>\n",
       "      <td>Annual Population Change</td>\n",
       "      <td>2023</td>\n",
       "      <td>Immigrants</td>\n",
       "      <td>Thousand</td>\n",
       "      <td>141.6</td>\n",
       "    </tr>\n",
       "    <tr>\n",
       "      <th>244</th>\n",
       "      <td>Annual Population Change</td>\n",
       "      <td>2023</td>\n",
       "      <td>Emigrants</td>\n",
       "      <td>Thousand</td>\n",
       "      <td>64.0</td>\n",
       "    </tr>\n",
       "    <tr>\n",
       "      <th>245</th>\n",
       "      <td>Annual Population Change</td>\n",
       "      <td>2023</td>\n",
       "      <td>Net migration</td>\n",
       "      <td>Thousand</td>\n",
       "      <td>77.6</td>\n",
       "    </tr>\n",
       "    <tr>\n",
       "      <th>246</th>\n",
       "      <td>Annual Population Change</td>\n",
       "      <td>2023</td>\n",
       "      <td>Population change</td>\n",
       "      <td>Thousand</td>\n",
       "      <td>97.6</td>\n",
       "    </tr>\n",
       "    <tr>\n",
       "      <th>247</th>\n",
       "      <td>Annual Population Change</td>\n",
       "      <td>2023</td>\n",
       "      <td>Population</td>\n",
       "      <td>Thousand</td>\n",
       "      <td>5281.6</td>\n",
       "    </tr>\n",
       "  </tbody>\n",
       "</table>\n",
       "<p>248 rows × 5 columns</p>\n",
       "</div>"
      ],
      "text/plain": [
       "              STATISTIC Label  Year          Component      UNIT   VALUE\n",
       "0    Annual Population Change  1993      Annual births  Thousand    50.4\n",
       "1    Annual Population Change  1993      Annual deaths  Thousand    30.4\n",
       "2    Annual Population Change  1993   Natural increase  Thousand    20.0\n",
       "3    Annual Population Change  1993         Immigrants  Thousand    34.7\n",
       "4    Annual Population Change  1993          Emigrants  Thousand    35.1\n",
       "..                        ...   ...                ...       ...     ...\n",
       "243  Annual Population Change  2023         Immigrants  Thousand   141.6\n",
       "244  Annual Population Change  2023          Emigrants  Thousand    64.0\n",
       "245  Annual Population Change  2023      Net migration  Thousand    77.6\n",
       "246  Annual Population Change  2023  Population change  Thousand    97.6\n",
       "247  Annual Population Change  2023         Population  Thousand  5281.6\n",
       "\n",
       "[248 rows x 5 columns]"
      ]
     },
     "execution_count": 536,
     "metadata": {},
     "output_type": "execute_result"
    }
   ],
   "source": [
    "data"
   ]
  },
  {
   "cell_type": "code",
   "execution_count": 537,
   "id": "b0d10321",
   "metadata": {},
   "outputs": [],
   "source": [
    "#After all I clearly know my data has no missing datas and beside that I know values are thousand . Therefore I wanna drop this column for discreasing datas ."
   ]
  },
  {
   "cell_type": "code",
   "execution_count": 538,
   "id": "d2843b85",
   "metadata": {},
   "outputs": [],
   "source": [
    "to_drop=['UNIT']"
   ]
  },
  {
   "cell_type": "code",
   "execution_count": 539,
   "id": "a8e9311d",
   "metadata": {},
   "outputs": [],
   "source": [
    "data.drop(to_drop,inplace=True,axis=1)"
   ]
  },
  {
   "cell_type": "code",
   "execution_count": 540,
   "id": "9e7ce849",
   "metadata": {},
   "outputs": [
    {
     "data": {
      "text/html": [
       "<div>\n",
       "<style scoped>\n",
       "    .dataframe tbody tr th:only-of-type {\n",
       "        vertical-align: middle;\n",
       "    }\n",
       "\n",
       "    .dataframe tbody tr th {\n",
       "        vertical-align: top;\n",
       "    }\n",
       "\n",
       "    .dataframe thead th {\n",
       "        text-align: right;\n",
       "    }\n",
       "</style>\n",
       "<table border=\"1\" class=\"dataframe\">\n",
       "  <thead>\n",
       "    <tr style=\"text-align: right;\">\n",
       "      <th></th>\n",
       "      <th>STATISTIC Label</th>\n",
       "      <th>Year</th>\n",
       "      <th>Component</th>\n",
       "      <th>VALUE</th>\n",
       "    </tr>\n",
       "  </thead>\n",
       "  <tbody>\n",
       "    <tr>\n",
       "      <th>0</th>\n",
       "      <td>Annual Population Change</td>\n",
       "      <td>1993</td>\n",
       "      <td>Annual births</td>\n",
       "      <td>50.4</td>\n",
       "    </tr>\n",
       "    <tr>\n",
       "      <th>1</th>\n",
       "      <td>Annual Population Change</td>\n",
       "      <td>1993</td>\n",
       "      <td>Annual deaths</td>\n",
       "      <td>30.4</td>\n",
       "    </tr>\n",
       "    <tr>\n",
       "      <th>2</th>\n",
       "      <td>Annual Population Change</td>\n",
       "      <td>1993</td>\n",
       "      <td>Natural increase</td>\n",
       "      <td>20.0</td>\n",
       "    </tr>\n",
       "    <tr>\n",
       "      <th>3</th>\n",
       "      <td>Annual Population Change</td>\n",
       "      <td>1993</td>\n",
       "      <td>Immigrants</td>\n",
       "      <td>34.7</td>\n",
       "    </tr>\n",
       "    <tr>\n",
       "      <th>4</th>\n",
       "      <td>Annual Population Change</td>\n",
       "      <td>1993</td>\n",
       "      <td>Emigrants</td>\n",
       "      <td>35.1</td>\n",
       "    </tr>\n",
       "    <tr>\n",
       "      <th>...</th>\n",
       "      <td>...</td>\n",
       "      <td>...</td>\n",
       "      <td>...</td>\n",
       "      <td>...</td>\n",
       "    </tr>\n",
       "    <tr>\n",
       "      <th>243</th>\n",
       "      <td>Annual Population Change</td>\n",
       "      <td>2023</td>\n",
       "      <td>Immigrants</td>\n",
       "      <td>141.6</td>\n",
       "    </tr>\n",
       "    <tr>\n",
       "      <th>244</th>\n",
       "      <td>Annual Population Change</td>\n",
       "      <td>2023</td>\n",
       "      <td>Emigrants</td>\n",
       "      <td>64.0</td>\n",
       "    </tr>\n",
       "    <tr>\n",
       "      <th>245</th>\n",
       "      <td>Annual Population Change</td>\n",
       "      <td>2023</td>\n",
       "      <td>Net migration</td>\n",
       "      <td>77.6</td>\n",
       "    </tr>\n",
       "    <tr>\n",
       "      <th>246</th>\n",
       "      <td>Annual Population Change</td>\n",
       "      <td>2023</td>\n",
       "      <td>Population change</td>\n",
       "      <td>97.6</td>\n",
       "    </tr>\n",
       "    <tr>\n",
       "      <th>247</th>\n",
       "      <td>Annual Population Change</td>\n",
       "      <td>2023</td>\n",
       "      <td>Population</td>\n",
       "      <td>5281.6</td>\n",
       "    </tr>\n",
       "  </tbody>\n",
       "</table>\n",
       "<p>248 rows × 4 columns</p>\n",
       "</div>"
      ],
      "text/plain": [
       "              STATISTIC Label  Year          Component   VALUE\n",
       "0    Annual Population Change  1993      Annual births    50.4\n",
       "1    Annual Population Change  1993      Annual deaths    30.4\n",
       "2    Annual Population Change  1993   Natural increase    20.0\n",
       "3    Annual Population Change  1993         Immigrants    34.7\n",
       "4    Annual Population Change  1993          Emigrants    35.1\n",
       "..                        ...   ...                ...     ...\n",
       "243  Annual Population Change  2023         Immigrants   141.6\n",
       "244  Annual Population Change  2023          Emigrants    64.0\n",
       "245  Annual Population Change  2023      Net migration    77.6\n",
       "246  Annual Population Change  2023  Population change    97.6\n",
       "247  Annual Population Change  2023         Population  5281.6\n",
       "\n",
       "[248 rows x 4 columns]"
      ]
     },
     "execution_count": 540,
     "metadata": {},
     "output_type": "execute_result"
    }
   ],
   "source": [
    "data #We are gonna see our data without UNIT column"
   ]
  },
  {
   "cell_type": "code",
   "execution_count": 541,
   "id": "f65838fd",
   "metadata": {
    "scrolled": true
   },
   "outputs": [
    {
     "data": {
      "text/plain": [
       "(248, 4)"
      ]
     },
     "execution_count": 541,
     "metadata": {},
     "output_type": "execute_result"
    }
   ],
   "source": [
    "data.shape #We can notice than here we have already dropped some datas"
   ]
  },
  {
   "cell_type": "markdown",
   "id": "234ff3cc",
   "metadata": {},
   "source": [
    "And now we can bring chancing Ireland population ."
   ]
  },
  {
   "cell_type": "code",
   "execution_count": 542,
   "id": "89331535",
   "metadata": {
    "scrolled": true
   },
   "outputs": [
    {
     "data": {
      "text/html": [
       "<div>\n",
       "<style scoped>\n",
       "    .dataframe tbody tr th:only-of-type {\n",
       "        vertical-align: middle;\n",
       "    }\n",
       "\n",
       "    .dataframe tbody tr th {\n",
       "        vertical-align: top;\n",
       "    }\n",
       "\n",
       "    .dataframe thead th {\n",
       "        text-align: right;\n",
       "    }\n",
       "</style>\n",
       "<table border=\"1\" class=\"dataframe\">\n",
       "  <thead>\n",
       "    <tr style=\"text-align: right;\">\n",
       "      <th></th>\n",
       "      <th>Year</th>\n",
       "      <th>VALUE</th>\n",
       "    </tr>\n",
       "  </thead>\n",
       "  <tbody>\n",
       "    <tr>\n",
       "      <th>7</th>\n",
       "      <td>1993</td>\n",
       "      <td>3574.1</td>\n",
       "    </tr>\n",
       "    <tr>\n",
       "      <th>15</th>\n",
       "      <td>1994</td>\n",
       "      <td>3585.9</td>\n",
       "    </tr>\n",
       "    <tr>\n",
       "      <th>23</th>\n",
       "      <td>1995</td>\n",
       "      <td>3601.3</td>\n",
       "    </tr>\n",
       "    <tr>\n",
       "      <th>31</th>\n",
       "      <td>1996</td>\n",
       "      <td>3626.1</td>\n",
       "    </tr>\n",
       "    <tr>\n",
       "      <th>39</th>\n",
       "      <td>1997</td>\n",
       "      <td>3664.3</td>\n",
       "    </tr>\n",
       "    <tr>\n",
       "      <th>47</th>\n",
       "      <td>1998</td>\n",
       "      <td>3703.1</td>\n",
       "    </tr>\n",
       "    <tr>\n",
       "      <th>55</th>\n",
       "      <td>1999</td>\n",
       "      <td>3741.6</td>\n",
       "    </tr>\n",
       "    <tr>\n",
       "      <th>63</th>\n",
       "      <td>2000</td>\n",
       "      <td>3789.5</td>\n",
       "    </tr>\n",
       "    <tr>\n",
       "      <th>71</th>\n",
       "      <td>2001</td>\n",
       "      <td>3847.2</td>\n",
       "    </tr>\n",
       "    <tr>\n",
       "      <th>79</th>\n",
       "      <td>2002</td>\n",
       "      <td>3917.2</td>\n",
       "    </tr>\n",
       "    <tr>\n",
       "      <th>87</th>\n",
       "      <td>2003</td>\n",
       "      <td>3979.9</td>\n",
       "    </tr>\n",
       "    <tr>\n",
       "      <th>95</th>\n",
       "      <td>2004</td>\n",
       "      <td>4045.2</td>\n",
       "    </tr>\n",
       "    <tr>\n",
       "      <th>103</th>\n",
       "      <td>2005</td>\n",
       "      <td>4133.8</td>\n",
       "    </tr>\n",
       "    <tr>\n",
       "      <th>111</th>\n",
       "      <td>2006</td>\n",
       "      <td>4232.9</td>\n",
       "    </tr>\n",
       "    <tr>\n",
       "      <th>119</th>\n",
       "      <td>2007</td>\n",
       "      <td>4375.8</td>\n",
       "    </tr>\n",
       "    <tr>\n",
       "      <th>127</th>\n",
       "      <td>2008</td>\n",
       "      <td>4485.1</td>\n",
       "    </tr>\n",
       "    <tr>\n",
       "      <th>135</th>\n",
       "      <td>2009</td>\n",
       "      <td>4533.4</td>\n",
       "    </tr>\n",
       "    <tr>\n",
       "      <th>143</th>\n",
       "      <td>2010</td>\n",
       "      <td>4554.8</td>\n",
       "    </tr>\n",
       "    <tr>\n",
       "      <th>151</th>\n",
       "      <td>2011</td>\n",
       "      <td>4574.9</td>\n",
       "    </tr>\n",
       "    <tr>\n",
       "      <th>159</th>\n",
       "      <td>2012</td>\n",
       "      <td>4593.7</td>\n",
       "    </tr>\n",
       "    <tr>\n",
       "      <th>167</th>\n",
       "      <td>2013</td>\n",
       "      <td>4614.7</td>\n",
       "    </tr>\n",
       "    <tr>\n",
       "      <th>175</th>\n",
       "      <td>2014</td>\n",
       "      <td>4645.4</td>\n",
       "    </tr>\n",
       "    <tr>\n",
       "      <th>183</th>\n",
       "      <td>2015</td>\n",
       "      <td>4687.8</td>\n",
       "    </tr>\n",
       "    <tr>\n",
       "      <th>191</th>\n",
       "      <td>2016</td>\n",
       "      <td>4739.6</td>\n",
       "    </tr>\n",
       "    <tr>\n",
       "      <th>199</th>\n",
       "      <td>2017</td>\n",
       "      <td>4810.9</td>\n",
       "    </tr>\n",
       "    <tr>\n",
       "      <th>207</th>\n",
       "      <td>2018</td>\n",
       "      <td>4884.9</td>\n",
       "    </tr>\n",
       "    <tr>\n",
       "      <th>215</th>\n",
       "      <td>2019</td>\n",
       "      <td>4958.5</td>\n",
       "    </tr>\n",
       "    <tr>\n",
       "      <th>223</th>\n",
       "      <td>2020</td>\n",
       "      <td>5029.9</td>\n",
       "    </tr>\n",
       "    <tr>\n",
       "      <th>231</th>\n",
       "      <td>2021</td>\n",
       "      <td>5074.7</td>\n",
       "    </tr>\n",
       "    <tr>\n",
       "      <th>239</th>\n",
       "      <td>2022</td>\n",
       "      <td>5184.0</td>\n",
       "    </tr>\n",
       "    <tr>\n",
       "      <th>247</th>\n",
       "      <td>2023</td>\n",
       "      <td>5281.6</td>\n",
       "    </tr>\n",
       "  </tbody>\n",
       "</table>\n",
       "</div>"
      ],
      "text/plain": [
       "     Year   VALUE\n",
       "7    1993  3574.1\n",
       "15   1994  3585.9\n",
       "23   1995  3601.3\n",
       "31   1996  3626.1\n",
       "39   1997  3664.3\n",
       "47   1998  3703.1\n",
       "55   1999  3741.6\n",
       "63   2000  3789.5\n",
       "71   2001  3847.2\n",
       "79   2002  3917.2\n",
       "87   2003  3979.9\n",
       "95   2004  4045.2\n",
       "103  2005  4133.8\n",
       "111  2006  4232.9\n",
       "119  2007  4375.8\n",
       "127  2008  4485.1\n",
       "135  2009  4533.4\n",
       "143  2010  4554.8\n",
       "151  2011  4574.9\n",
       "159  2012  4593.7\n",
       "167  2013  4614.7\n",
       "175  2014  4645.4\n",
       "183  2015  4687.8\n",
       "191  2016  4739.6\n",
       "199  2017  4810.9\n",
       "207  2018  4884.9\n",
       "215  2019  4958.5\n",
       "223  2020  5029.9\n",
       "231  2021  5074.7\n",
       "239  2022  5184.0\n",
       "247  2023  5281.6"
      ]
     },
     "execution_count": 542,
     "metadata": {},
     "output_type": "execute_result"
    }
   ],
   "source": [
    "filtre = (data['Year'] >= 1993) & (data['Year'] <= 2023) & (data['Component'] == \"Population\") #I have already known my data contains last 30 years but I wanted to display how we can hatch specific chosen as componenet population as 1993-2023 years ) \n",
    "filtered_data_year_value = data[filtre][['Year', 'VALUE']]\n",
    "filtered_data_year_value"
   ]
  },
  {
   "cell_type": "markdown",
   "id": "96c701e1",
   "metadata": {},
   "source": [
    "As you see numbers , population is going up every year . But also we have another way to show it . Another way to explain it visualising .  "
   ]
  },
  {
   "cell_type": "code",
   "execution_count": 543,
   "id": "891020e4",
   "metadata": {},
   "outputs": [
    {
     "data": {
      "image/png": "[encoded data removed]",
      "text/plain": [
       "<Figure size 1700x800 with 1 Axes>"
      ]
     },
     "metadata": {},
     "output_type": "display_data"
    }
   ],
   "source": [
    "population_data = data[filtre]   #population_data is created .\n",
    "values_population = population_data['VALUE'] #Only values are chosen .\n",
    "years = population_data['Year'] #only years are chosen .\n",
    "\n",
    "plt.figure(figsize=(17, 8))  #Dimentionals are adjusted .\n",
    "plt.plot(years, values , marker='x') #years and values are displayed and used 'x' mark to understand crashed points .\n",
    "plt.title(\"Population from 1993 to 2023\") #title name is written .\n",
    "plt.xlabel(\"Year\") #X line is disagned \n",
    "plt.ylabel(\"Population (Thousand)\") #Y line is disagned \n",
    "plt.grid(True) #I wanted to show grids also make my displaying clear \n",
    "\n",
    "plt.show() #I can show my displaying anymore . every 5 years are displayed if you wanna see every year you can add this command also : plt.xticks(years)\n",
    "\n",
    "#Notice : Population values are thousand as you see below ."
   ]
  },
  {
   "cell_type": "markdown",
   "id": "b0769ab7",
   "metadata": {},
   "source": [
    "Make it clear and to show all years I wanted to add plt.xticks(years) command also below . It will be more specific "
   ]
  },
  {
   "cell_type": "code",
   "execution_count": 544,
   "id": "9a2f5fbe",
   "metadata": {
    "scrolled": true
   },
   "outputs": [
    {
     "data": {
      "image/png": "[encoded data removed]",
      "text/plain": [
       "<Figure size 1700x500 with 1 Axes>"
      ]
     },
     "metadata": {},
     "output_type": "display_data"
    }
   ],
   "source": [
    "plt.figure(figsize=(17, 5)) #I have changed figsizes to show all years \n",
    "plt.plot(years, values , marker = 'p') #I have changed marker also make it crashed points handy\n",
    "plt.title(\"Population from 1993 to 2023\")\n",
    "plt.xlabel(\"Year\")\n",
    "plt.ylabel(\"Population (Thousand)\")\n",
    "plt.grid(True)\n",
    "plt.xticks(years) # added \n",
    "\n",
    "plt.show()"
   ]
  },
  {
   "cell_type": "markdown",
   "id": "94c0e40c",
   "metadata": {},
   "source": [
    "As you can see , strongly or slowly , there is something here apperantly , population are increases every year and there is huge difference between 30 years ."
   ]
  },
  {
   "cell_type": "markdown",
   "id": "cd3d5ce6",
   "metadata": {},
   "source": [
    "Let's see natural increases now below ."
   ]
  },
  {
   "cell_type": "code",
   "execution_count": 549,
   "id": "ce70e362",
   "metadata": {
    "scrolled": false
   },
   "outputs": [
    {
     "data": {
      "image/png": "[encoded data removed]",
      "text/plain": [
       "<Figure size 1700x500 with 1 Axes>"
      ]
     },
     "metadata": {},
     "output_type": "display_data"
    }
   ],
   "source": [
    "filtre = (data['Year'] >= 1993) & (data['Year'] <= 2023) & (data['Component'] == \"Natural increase\") #Natural İncreaes are selected .\n",
    "natural_increase_data= data[filtre] #name is created \n",
    "values = natural_increase_data['VALUE']\n",
    "years = natural_increase_data['Year']\n",
    "\n",
    "plt.figure(figsize=(17, 5))\n",
    "plt.plot(years, values , marker='p')\n",
    "plt.title(\"Natural Increase from 1993 to 2023\")\n",
    "plt.xlabel(\"Year\")\n",
    "plt.ylabel(\"Natural increase (Thousand)\")\n",
    "plt.grid(True)\n",
    "plt.xticks(years)\n",
    "\n",
    "plt.show()"
   ]
  },
  {
   "cell_type": "markdown",
   "id": "20e9028c",
   "metadata": {},
   "source": [
    "As we have seen , after 2010 natural increases going down . It's meaning still Annual births are bigger than Annual deaths but not strongly as before as than 2010 . Certainly , wme can say that natural increases support development of population ."
   ]
  },
  {
   "cell_type": "markdown",
   "id": "af5b3c1a",
   "metadata": {},
   "source": [
    "We are having look net migration difference . It supports development of population or not , let's see together ."
   ]
  },
  {
   "cell_type": "code",
   "execution_count": 552,
   "id": "187bc80c",
   "metadata": {
    "scrolled": true
   },
   "outputs": [
    {
     "data": {
      "image/png": "[encoded data removed]",
      "text/plain": [
       "<Figure size 1700x500 with 1 Axes>"
      ]
     },
     "metadata": {},
     "output_type": "display_data"
    }
   ],
   "source": [
    "filtre = (data['Year'] >= 1993) & (data['Year'] <= 2023) & (data['Component'] == \"Net migration\") #Net migration is selected \n",
    "net_migration_data= data[filtre]\n",
    "values = net_migration_data['VALUE']\n",
    "years = net_migration_data['Year']\n",
    "\n",
    "plt.figure(figsize=(17, 5))\n",
    "plt.plot(years, values , marker='p')\n",
    "plt.title(\"Net migration from 1993 to 2023\")\n",
    "plt.xlabel(\"Year\")\n",
    "plt.ylabel(\"Net migration (Thousand)\")\n",
    "plt.grid(True)\n",
    "plt.xticks(years)\n",
    "\n",
    "plt.show()"
   ]
  },
  {
   "cell_type": "markdown",
   "id": "d4cbb1e5",
   "metadata": {},
   "source": [
    "As we can see , every year net migration does not suppport development of population .( Minus values are showed between 2009-2015) What is that meaning ? Every year population is not fed by net migration . But this is obvious , after 2015 net migration supports development of population again ."
   ]
  },
  {
   "cell_type": "markdown",
   "id": "bf2c5e0d",
   "metadata": {},
   "source": [
    "Let's see how changed immigrations at last 30 years ."
   ]
  },
  {
   "cell_type": "code",
   "execution_count": 553,
   "id": "a2991b0b",
   "metadata": {},
   "outputs": [
    {
     "data": {
      "image/png": "[encoded data removed]",
      "text/plain": [
       "<Figure size 1700x800 with 1 Axes>"
      ]
     },
     "metadata": {},
     "output_type": "display_data"
    }
   ],
   "source": [
    "filtre = (data['Year'] >= 1993) & (data['Year'] <= 2023) & (data['Component'] == \"Immigrants\") #Immigrants are selected .\n",
    "immigrants_data= data[filtre]\n",
    "values = immigrants_data['VALUE']\n",
    "years = immigrants_data['Year']\n",
    "\n",
    "plt.figure(figsize=(17, 8))\n",
    "plt.plot(years, values , marker='p')\n",
    "plt.title(\"Immigrants from 1993 to 2023\")\n",
    "plt.xlabel(\"Year\")\n",
    "plt.ylabel(\"Immigrants (Thousand)\")\n",
    "plt.grid(True)\n",
    "plt.xticks(years)\n",
    "\n",
    "plt.show()"
   ]
  },
  {
   "cell_type": "markdown",
   "id": "083dcd37",
   "metadata": {},
   "source": [
    "As we have seen , ın last 30 years , every year Ireland accepts immigrants. 2007 is max , 1994 is min . Last 2 years accepting immigrants are going up very strongly ."
   ]
  },
  {
   "cell_type": "code",
   "execution_count": null,
   "id": "0a7d037f",
   "metadata": {},
   "outputs": [],
   "source": [
    "What about emigrants ? "
   ]
  },
  {
   "cell_type": "code",
   "execution_count": 108,
   "id": "a18e41d5",
   "metadata": {},
   "outputs": [
    {
     "data": {
      "image/png": "[encoded data removed]",
      "text/plain": [
       "<Figure size 1700x800 with 1 Axes>"
      ]
     },
     "metadata": {},
     "output_type": "display_data"
    }
   ],
   "source": [
    "import pandas as pd\n",
    "import matplotlib.pyplot as plt\n",
    "\n",
    "data = pd.read_csv(\"PEA15.20231021T091018.csv\")\n",
    "filtre = (data['Year'] >= 1993) & (data['Year'] <= 2023) & (data['Component'] == \"Emigrants\")\n",
    "emigrants_data= data[filtre]\n",
    "values = emigrants_data['VALUE']\n",
    "years = emigrants_data['Year']\n",
    "\n",
    "plt.figure(figsize=(17, 8))\n",
    "plt.plot(years, values)\n",
    "plt.title(\"Emigrants from 1993 to 2023\")\n",
    "plt.xlabel(\"Year\")\n",
    "plt.ylabel(\"Emigrants (Thousand)\")\n",
    "plt.grid(True)\n",
    "plt.xticks(years)\n",
    "\n",
    "plt.show()"
   ]
  },
  {
   "cell_type": "code",
   "execution_count": null,
   "id": "fe01caf6",
   "metadata": {},
   "outputs": [],
   "source": []
  }
 ],
 "metadata": {
  "kernelspec": {
   "display_name": "Python 3 (ipykernel)",
   "language": "python",
   "name": "python3"
  },
  "language_info": {
   "codemirror_mode": {
    "name": "ipython",
    "version": 3
   },
   "file_extension": ".py",
   "mimetype": "text/x-python",
   "name": "python",
   "nbconvert_exporter": "python",
   "pygments_lexer": "ipython3",
   "version": "3.11.4"
  }
 },
 "nbformat": 4,
 "nbformat_minor": 5
}
